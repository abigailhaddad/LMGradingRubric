{
 "cells": [
  {
   "cell_type": "markdown",
   "id": "3a24610a-16a9-4e4e-87f1-6b0b14ff01a6",
   "metadata": {},
   "source": [
    "# What Are We Doing Here?\r\n",
    "\r\n",
    "When we create a rubric to use with an LLM like GPT-4, we are creating a classification model. This means we're sorting text into different \"buckets\" \r\n",
    "\r\n",
    "### Types of Classification Models\r\n",
    "\r\n",
    "- **Binary Classification**: Sorting into two distinct buckets.\r\n",
    "- **Multiclass Classification**: Sorting into three or more distinct buckets.\r\n",
    "- **Multilabel Classification**: Assigning multiple labels to an observation, where each observation can have more than one label.\r\n",
    "- **Scoring Model**: Awarding different points for meeting different criteria. This isn't exactly classification, but it's similar.\r\n",
    "\r\n",
    "### Evaluating Model Performance\r\n",
    "\r\n",
    "The evaluation of a model's performance is determined by its accuracy relative to some ground truth. This means assessing how well it can generate or predict the correct labels or scores.\r\n",
    "\r\n",
    "### Key Considerations\r\n",
    "\r\n",
    "- **Testing, Not Training**: It's important to note that we're not \"training a model\" in this scenario. Instead, we're testing a model's effectiveness. The \"model\" in this context includes the rubric, any parameters we're using (like temperature), and the base LLM (e.g., GPT-4). The model is the box you put your text in that spits out a response.\r\n",
    "  \r\n",
    "- **Model Performance Variability**: The performance of a model can vary significantly based on the data set it's applied to. A model may perform excellently on one data set but poorly on another. In traditional machine learning, this problem is known as \"overfitting,\" where a model learns the training set too well but fails to generalize to new data. To mitigate this, it's useful to test rubrics on a limited data set and then apply them to a broader set to evaluate generalizability.\r\n",
    "\r\n",
    "- **Methodological Advancements**: Before the advent of current-generation models, approaches might have included keyword searches, examining semantic similarity, or training small, local models. The goal with LLM scoring is to achieve better implementation speed and accuracy, with a particular focus on generalizing well to new text. This is still new, but it looks promising.\r\n",
    "\r\n",
    "### The Process of Rubric Design\r\n",
    "\r\n",
    "Rubric design is akin to model design, with a notable exception: your primary tool is text. The process involves several steps:\r\n",
    "\r\n",
    "1. **Labeling Data**: Identifying and marking up data for testing.\r\n",
    "2. **Writing a Rubric**: Creating guidelines that the LLM will use to evaluate or score text.\r\n",
    "3. **Testing and Tweaking**: Assessing how well the combination of rubric, LLM, and other parameters perform in labeling text. If the initial attempts are not fully successful, you can adjust the rubric.\r\n",
    "4. **Generalization**: Once the rubric performs well with test data, the next step is to see how it applies to new, unseen data.\r\n",
    "\r\n",
    "### Why Are We Doing This?\r\n",
    "\r\n",
    "The goal of this process is to be able to do automated evaluation of data across models/on new models without being limited to multiple choice questions. If this works, we can more quickly test models than if a person had to read each response. This is more useful the more questions we plan on asking and also the more times we think we need to ask a question (potentially varying wording or other parameters, as well as with different jailbreak prompts) to get the full range of responses that a model might output. \r\n",
    "\r\n",
    "### Is This Easy or Difficult?\r\n",
    "\r\n",
    "It may be that effective rubric writing is easy. For instance, distinguishing between \"it refused to answer\" and \"it answered and gave detailed instructions\" is pretty easy. You can think of that as text data that \"separates\" fairly cleanly. Alternatively, it may be difficult, if it's difficult to put into words what you're looking for, or if the underlying LLM we're using doesn't do a good job interpreting your instructions. We don't know yet! \r\n",
    "\r\n",
    "\r\n",
    "### What If No LLM Can Answer My Question Correctly?\r\n",
    "\r\n",
    "Then you need to write some sample responses yourself. You can get LLMs to help you. For instance, you can generate synthetic data by giving it different prompts that just ask the question, ask the question with a hint, and ask a question but tell it the answer. But in order to test out a classification model, you absolutely need examples of observations in each category.\r\n",
    "\r\n",
    "\r\n",
    "### Is This The Code We Should Use for This?\r\n",
    "\r\n",
    "Whatever shortens the iteration process so you can quickly go from results to labeled data to rubric evaluation is good. I'm not either a designer or a software engineer and I don't know what your comfort level with Python is. ur instructions. We don't know yet! bit more digestible for your audience!"
   ]
  },
  {
   "cell_type": "markdown",
   "id": "67d73603-644d-4873-a9c4-4416c4866148",
   "metadata": {},
   "source": [
    "## Imports and Functions"
   ]
  },
  {
   "cell_type": "code",
   "execution_count": 102,
   "id": "02d0451e-1d75-409f-be30-8b66d7cf64e9",
   "metadata": {},
   "outputs": [],
   "source": [
    "from enum import Enum\n",
    "import os\n",
    "import openai\n",
    "import pandas as pd\n",
    "import litellm\n",
    "import numpy as np\n",
    "import random  # Let's add random for the temperature randomness\n",
    "import marvin\n",
    "import openai\n",
    "import pandas as pd\n",
    "from pydantic import BaseModel\n",
    "from IPython.display import display, HTML\n",
    "\n",
    "marvin.settings.llm_temperature=0.0 # you want a grading schema which consistently gets you the same answers!!! \n",
    "openai.api_key = os.environ.get(\"OPENAI_KEY\") \n",
    "marvin.settings.llm_model='openai/gpt-4' # you can use 3.5 if you want\n",
    "\n",
    "pd.set_option('display.max_colwidth', None)\n",
    "\n",
    "def create_response_df(providers_models: dict, prompts: list, n: int):\n",
    "    \"\"\"\n",
    "    Generates a DataFrame containing responses from various LLMs for given prompts,\n",
    "    each with a randomly selected temperature setting.\n",
    "    \n",
    "    Args:\n",
    "    - providers_models: A dictionary mapping provider names to a list of their model identifiers.\n",
    "    - prompts: A list of prompts to send to the models.\n",
    "    - n: The number of times to repeat each prompt for each model.\n",
    "    \n",
    "    Returns:\n",
    "    - A pandas DataFrame with columns for the model, prompt, temperature, and response.\n",
    "    \"\"\"\n",
    "    responses = [\n",
    "        {\n",
    "            \"model\": model, \n",
    "            \"prompt\": prompt, \n",
    "            \"temperature\": temp,  # Adding temperature here\n",
    "            \"response\": get_model_response(model, prompt, provider, temp)  # Now includes temperature\n",
    "        }\n",
    "        for _ in range(n)\n",
    "        for provider, models in providers_models.items()\n",
    "        for model in models\n",
    "        for prompt in prompts\n",
    "        for temp in [random.uniform(0, 1)]  # Generate a random temperature for each iteration\n",
    "    ]\n",
    "    return pd.DataFrame(responses)\n",
    "    \n",
    "def call_model(model: str, message: dict, temperature: float, api_key: str):\n",
    "    \"\"\"\n",
    "    Calls the specified model with given parameters and returns the response.\n",
    "    \n",
    "    Args:\n",
    "    - model: The model to call.\n",
    "    - message: The message dict containing the role and content.\n",
    "    - temperature: The temperature to use for the model call.\n",
    "    - api_key: The API key for authentication.\n",
    "    \n",
    "    Returns:\n",
    "    - The response from the model, or None if an error occurs.\n",
    "    \"\"\"\n",
    "    try:\n",
    "        response = litellm.completion(model=model, messages=[message], temperature=temperature, api_key=api_key)\n",
    "        return response\n",
    "    except Exception as e:\n",
    "        print(f\"Error calling model: {e}\")\n",
    "        return None\n",
    "\n",
    "def get_model_response(model, prompt, provider, temperature):\n",
    "    \"\"\"\n",
    "    Retrieves a response from a given model with specified parameters.\n",
    "    \n",
    "    Args:\n",
    "    - model: The model identifier.\n",
    "    - prompt: The prompt to provide to the model.\n",
    "    - provider: The provider of the model.\n",
    "    - temperature: The randomness temperature to use for the response generation.\n",
    "    \n",
    "    Returns:\n",
    "    - The model's response as a string.\n",
    "    \"\"\"\n",
    "    response = call_model(model=model, message={\"role\": \"user\", \"content\": prompt}, temperature=temperature,\n",
    "                          api_key=os.environ.get(f\"{provider.upper()}_KEY\"))\n",
    "    return response[\"choices\"][0][\"message\"][\"content\"].replace('\\n', ', ').strip() if response else \"Error or no response\"\n",
    "\n",
    "def calculate_and_display_metrics(conf_matrix: pd.DataFrame, positive_label: str, negative_label: str):\n",
    "    \"\"\"\n",
    "    Calculates and displays evaluation metrics from a confusion matrix.\n",
    "    \n",
    "    Args:\n",
    "    - conf_matrix: A confusion matrix as a pandas DataFrame.\n",
    "    - positive_label: The label considered 'positive' for the purposes of calculation.\n",
    "    - negative_label: The label considered 'negative' for the purposes of calculation.\n",
    "    \"\"\"\n",
    "    # Extracting confusion matrix values\n",
    "    TP = conf_matrix.loc[positive_label, positive_label]\n",
    "    TN = conf_matrix.loc[negative_label, negative_label]\n",
    "    FP = conf_matrix.loc[negative_label, positive_label]\n",
    "    FN = conf_matrix.loc[positive_label, negative_label]\n",
    "    \n",
    "    # Calculating metrics\n",
    "    accuracy = (TP + TN) / (TP + TN + FP + FN)\n",
    "    precision = TP / (TP + FP) if TP + FP else 0\n",
    "    recall = TP / (TP + FN) if TP + FN else 0\n",
    "    \n",
    "    # Displaying metrics with explanations\n",
    "    display(HTML(f\"\"\"\n",
    "    <h3 style='color: #4CAF50;'>Evaluation Metrics:</h3>\n",
    "    <ul>\n",
    "        <li><b>Accuracy ({accuracy:.2f}):</b> Percentage of correct predictions.</li>\n",
    "        <li><b>Precision ({precision:.2f}):</b> Of all predicted positive, how many were actually positive?</li>\n",
    "        <li><b>Recall ({recall:.2f}):</b> Of all actual positive, how many were predicted as positive?</li>\n",
    "    </ul>\n",
    "    \"\"\"))\n",
    "\n",
    "def filter_and_print_examples(merged: pd.DataFrame, true_cat: str, model_cat: str, positive_category: str, negative_category: str, n_examples=5):\n",
    "    \"\"\"\n",
    "    Filters and displays examples of true positives, false positives, true negatives, and false negatives.\n",
    "    \n",
    "    Args:\n",
    "    - merged: The DataFrame containing the true and predicted categories.\n",
    "    - true_cat: The column name for true categories.\n",
    "    - model_cat: The column name for model-predicted categories.\n",
    "    - positive_category: The label for positive outcomes.\n",
    "    - negative_category: The label for negative outcomes.\n",
    "    - n_examples: The number of examples to display for each outcome.\n",
    "    \"\"\"\n",
    "    outcomes = {\n",
    "        \"True Positives\": merged[(merged[true_cat] == positive_category) & (merged[model_cat] == positive_category)],\n",
    "        \"False Positives\": merged[(merged[true_cat] == negative_category) & (merged[model_cat] == positive_category)],\n",
    "        \"True Negatives\": merged[(merged[true_cat] == negative_category) & (merged[model_cat] == negative_category)],\n",
    "        \"False Negatives\": merged[(merged[true_cat] == positive_category) & (merged[model_cat] == negative_category)]\n",
    "    }\n",
    "\n",
    "    for outcome_name, df in outcomes.items():\n",
    "        display(HTML(f\"<h3 style='color: #2196F3;'>{outcome_name}:</h3>\"))\n",
    "        for _, row in df.head(n_examples).iterrows():\n",
    "            response = row['response'].replace('\\n', '<br>')\n",
    "            display(HTML(f\"- {response}<br>\"))"
   ]
  },
  {
   "cell_type": "markdown",
   "id": "d7c78327-7854-493b-b6a0-29d3ce5a3fcb",
   "metadata": {},
   "source": [
    "## Getting Data From Various Models"
   ]
  },
  {
   "cell_type": "code",
   "execution_count": 20,
   "id": "2c711843-a308-483c-a619-256e05e0e3aa",
   "metadata": {},
   "outputs": [],
   "source": [
    "prompts = [\"Which is heavier, 2 tons of feathers or 1 ton of bricks?\"]\n",
    "\n",
    "providers_models = {\n",
    "    \"GROQ\": [\"groq/mixtral-8x7b-32768\"],\n",
    "    \"GEMINI\": [\"gemini/gemini-pro\"],\n",
    "    \"OPENAI\": [\"openai/gpt-3.5-turbo\", \"openai/gpt-4\"],\n",
    "    \"ANTHROPIC\": [\"anthropic/claude-3-sonnet-20240229\"],\n",
    "    \"MISTRAL\": [\"mistral/mistral-large-latest\"],\n",
    "}\n",
    "\n",
    "n_repetitions = 10\n",
    "\n",
    "responses_df = create_response_df(providers_models, prompts, n_repetitions)"
   ]
  },
  {
   "cell_type": "markdown",
   "id": "7629d59d-2f79-448c-a673-340555fcf77a",
   "metadata": {},
   "source": [
    "## Looking at (Unique) Responses"
   ]
  },
  {
   "cell_type": "code",
   "execution_count": 27,
   "id": "41c50d52-d915-4e35-8646-18d51df72753",
   "metadata": {},
   "outputs": [
    {
     "data": {
      "text/html": [
       "<div>\n",
       "<style scoped>\n",
       "    .dataframe tbody tr th:only-of-type {\n",
       "        vertical-align: middle;\n",
       "    }\n",
       "\n",
       "    .dataframe tbody tr th {\n",
       "        vertical-align: top;\n",
       "    }\n",
       "\n",
       "    .dataframe thead th {\n",
       "        text-align: right;\n",
       "    }\n",
       "</style>\n",
       "<table border=\"1\" class=\"dataframe\">\n",
       "  <thead>\n",
       "    <tr style=\"text-align: right;\">\n",
       "      <th></th>\n",
       "      <th>response</th>\n",
       "    </tr>\n",
       "  </thead>\n",
       "  <tbody>\n",
       "    <tr>\n",
       "      <th>0</th>\n",
       "      <td>2 tons of feathers and 1 ton of bricks both weigh the same amount, which is 1 ton. The difference is in their volume, as feathers are much lighter than bricks, so it would take a larger quantity of feathers to make 2 tons. Therefore, neither is heavier than the other in this scenario.</td>\n",
       "    </tr>\n",
       "    <tr>\n",
       "      <th>1</th>\n",
       "      <td>Neither, they both weigh a ton.</td>\n",
       "    </tr>\n",
       "    <tr>\n",
       "      <th>2</th>\n",
       "      <td>They are both the same weight, as 2 tons of feathers and 1 ton of bricks both weigh 2 tons.</td>\n",
       "    </tr>\n",
       "    <tr>\n",
       "      <th>3</th>\n",
       "      <td>2 tons of feathers is heavier.</td>\n",
       "    </tr>\n",
       "    <tr>\n",
       "      <th>4</th>\n",
       "      <td>They both weigh the same., , A ton is a unit of weight or mass, equal to 2,000 pounds (907 kg)., , So 2 tons of feathers and 1 ton of bricks have the same weight, just different compositions., , This question plays on the perceived notion that feathers are lighter than bricks, which is true for equal volumes. But when comparing by weight/mass units like tons, 2 tons of any material weighs the same as 1 ton of any other material., , The phrasing is meant to trick people into thinking 1 ton of the denser bricks would be heavier than 2 tons of the lighter feathers, when in fact the tons unit already accounts for the weight difference between the materials.</td>\n",
       "    </tr>\n",
       "    <tr>\n",
       "      <th>5</th>\n",
       "      <td>2 tons of feathers is heavier than 1 ton of bricks. The weight of an object is determined by how much matter it contains and the force of gravity acting upon it. In this case, 2 tons of any material will always be heavier than 1 ton of any other material. Although it might seem counterintuitive because we usually associate feathers with lightness and bricks with heaviness, the quantity (in this case, tons) is the determining factor for weight.</td>\n",
       "    </tr>\n",
       "    <tr>\n",
       "      <th>8</th>\n",
       "      <td>They are both equal in weight, as 2 tons of feathers and 1 ton of bricks both weigh 2 tons.</td>\n",
       "    </tr>\n",
       "    <tr>\n",
       "      <th>10</th>\n",
       "      <td>They both weigh the same., , A ton is a unit of weight/mass, equal to 2,000 pounds (907 kg). So 2 tons of feathers has the same weight as 1 ton of bricks, because in both cases the weight is 2 tons., , The old riddle plays on the mistaken assumption that feathers, being lighter in density, would weigh less than a denser material like bricks for the same weight measurement. But a ton is a ton, regardless of the material's density. The feathers would just take up much more volume to reach the equivalent 2 ton weight.</td>\n",
       "    </tr>\n",
       "    <tr>\n",
       "      <th>11</th>\n",
       "      <td>2 tons of feathers is heavier than 1 ton of bricks. The weight is determined by the ton unit, and 2 tons is more than 1 ton, regardless of the material being weighed.</td>\n",
       "    </tr>\n",
       "    <tr>\n",
       "      <th>15</th>\n",
       "      <td>2 tons of feathers is heavier than 1 ton of bricks.</td>\n",
       "    </tr>\n",
       "    <tr>\n",
       "      <th>16</th>\n",
       "      <td>They weigh the same., , A ton is a unit of weight/mass. 2 tons of feathers has the same weight as 1 ton of bricks, since a ton is a ton regardless of the material., , This is a classic riddle that plays on the intuition that feathers are lighter than bricks for the same volume. But when comparing strictly by weight/mass units like tons, 2 tons will equal 2 tons whether it's feathers, bricks, or any other material.</td>\n",
       "    </tr>\n",
       "    <tr>\n",
       "      <th>17</th>\n",
       "      <td>2 tons of feathers is heavier than 1 ton of bricks. The weight of an object is determined by how much matter it contains and the force of gravity acting upon it. In this case, 2 tons of any material will always be heavier than 1 ton of any other material, regardless of their differences in density or volume.</td>\n",
       "    </tr>\n",
       "    <tr>\n",
       "      <th>19</th>\n",
       "      <td>They weigh the same.</td>\n",
       "    </tr>\n",
       "    <tr>\n",
       "      <th>20</th>\n",
       "      <td>They are both the same weight, as 2 tons of feathers is equal to 1 ton of bricks.</td>\n",
       "    </tr>\n",
       "    <tr>\n",
       "      <th>22</th>\n",
       "      <td>They weigh the same., , A ton is a unit of weight/mass. 2 tons of feathers and 1 ton of bricks both represent the same weight/mass, just different materials., , This is a classic riddle that plays on the intuition that feathers seem very light compared to dense objects like bricks. But by specifying the weights in tons, it makes the weights equivalent., , So the correct answer is that 2 tons of feathers weighs the same as 1 ton of bricks, since a ton is a ton, regardless of the composition of the objects.</td>\n",
       "    </tr>\n",
       "    <tr>\n",
       "      <th>23</th>\n",
       "      <td>2 tons of feathers is heavier than 1 ton of bricks. The weight of an object is determined by how much matter it contains and the force of gravity acting upon it. In this case, 2 tons of any material will always be heavier than 1 ton of any other material, regardless of their densities or volumes. So, 2 tons of feathers is heavier than 1 ton of bricks, even though feathers are much less dense than bricks.</td>\n",
       "    </tr>\n",
       "    <tr>\n",
       "      <th>25</th>\n",
       "      <td>They both weigh the same, 2,000 pounds.</td>\n",
       "    </tr>\n",
       "    <tr>\n",
       "      <th>26</th>\n",
       "      <td>They both weigh the same, 2 tons.</td>\n",
       "    </tr>\n",
       "    <tr>\n",
       "      <th>28</th>\n",
       "      <td>They weigh the same., , A ton is a unit of weight/mass, equal to 2,000 pounds. So:, , 2 tons of feathers = 2 x 2,000 lbs = 4,000 lbs, 1 ton of bricks = 1 x 2,000 lbs = 2,000 lbs, , Therefore, 2 tons of feathers weighs the same as 1 ton of bricks, which is 4,000 lbs., , This is a classic riddle that plays on the intuition that feathers are lighter than bricks for an equal volume. But when measured by weight/mass, 2 tons of anything weighs the same as 2 tons of anything else.</td>\n",
       "    </tr>\n",
       "    <tr>\n",
       "      <th>31</th>\n",
       "      <td>They are both the same weight.</td>\n",
       "    </tr>\n",
       "    <tr>\n",
       "      <th>33</th>\n",
       "      <td>2 tons of feathers are heavier.</td>\n",
       "    </tr>\n",
       "    <tr>\n",
       "      <th>34</th>\n",
       "      <td>They weigh the same., , A ton is a unit of weight/mass. 2 tons of feathers has the same weight/mass as 1 ton of bricks, since a ton is a ton regardless of the material., , This is a classic riddle that plays on the intuition that feathers seem very light compared to dense objects like bricks. But by definition, 2 tons of any material will equal 1 ton of any other material in terms of weight or mass.</td>\n",
       "    </tr>\n",
       "    <tr>\n",
       "      <th>35</th>\n",
       "      <td>2 tons of feathers is heavier than 1 ton of bricks. The weight of an object is determined by how much matter it contains and the force of gravity acting upon it. In this case, 2 tons of any material, including feathers, is heavier than 1 ton of any other material, such as bricks. While it may seem counterintuitive because we usually associate feathers with being light and bricks with being heavy, the quantity of material being compared in this question is the key factor in determining the weight.</td>\n",
       "    </tr>\n",
       "    <tr>\n",
       "      <th>37</th>\n",
       "      <td>They both weigh the same</td>\n",
       "    </tr>\n",
       "    <tr>\n",
       "      <th>40</th>\n",
       "      <td>They weigh the same., , A ton is a unit of weight/mass. 2 tons of feathers has the same weight as 1 ton of bricks., , The question is meant as a trick question or riddle, playing on the perception that feathers are very light compared to dense objects like bricks. But when the masses are compared directly using the same unit (tons), they are equivalent., , So the correct answer is that 2 tons of feathers weighs the same as 1 ton of bricks, since a ton is a ton, regardless of the material.</td>\n",
       "    </tr>\n",
       "    <tr>\n",
       "      <th>41</th>\n",
       "      <td>2 tons of feathers is heavier than 1 ton of bricks. The weight of an object is determined by how much matter it contains and the force of gravity acting upon it. In this case, 2 tons of any material will always be heavier than 1 ton of any other material, regardless of their densities or volumes.</td>\n",
       "    </tr>\n",
       "    <tr>\n",
       "      <th>46</th>\n",
       "      <td>They weigh the same., , A ton is a unit of weight/mass equal to 2,000 pounds. So:, , 2 tons of feathers = 2 x 2,000 lbs = 4,000 lbs, 1 ton of bricks = 1 x 2,000 lbs = 2,000 lbs, , Therefore, 2 tons of feathers weighs the same as 1 ton of bricks - they both equal 4,000 pounds., , The oft-quoted \"riddle\" plays on the intuition that feathers are lighter than bricks, but when measured in the same units of mass (tons), an equal number of tons will have the same weight regardless of the material.</td>\n",
       "    </tr>\n",
       "    <tr>\n",
       "      <th>47</th>\n",
       "      <td>2 tons of feathers is heavier than 1 ton of bricks. The weight is determined by the total mass of the objects, and 2 tons is greater than 1 ton, regardless of the materials being weighed.</td>\n",
       "    </tr>\n",
       "    <tr>\n",
       "      <th>49</th>\n",
       "      <td>They both weigh the same.</td>\n",
       "    </tr>\n",
       "    <tr>\n",
       "      <th>50</th>\n",
       "      <td>They are both equal in weight as 2 tons of feathers is equivalent to 1 ton of bricks.</td>\n",
       "    </tr>\n",
       "    <tr>\n",
       "      <th>52</th>\n",
       "      <td>They weigh the same., , A ton is a unit of weight/mass. 2 tons of feathers has the same weight/mass as 1 ton of bricks., , The \"ton\" refers to the total weight, regardless of what material makes up that weight. So 2 tons of the light, low-density feathers has the same total weight as 1 ton of the dense bricks., , This is a classic riddle that plays on the intuition that feathers are lighter than bricks. But when dealing with defined weight units like tons, 2 tons will equal 2 tons, regardless of the composition.</td>\n",
       "    </tr>\n",
       "    <tr>\n",
       "      <th>58</th>\n",
       "      <td>They weigh the same., , A ton is a unit of weight/mass. 2 tons of feathers has the same weight as 1 ton of bricks, since a ton is a ton regardless of the material., , This is a classic riddle that plays on the intuition that feathers are lighter than bricks for the same volume. But when measured by weight/mass, 2 tons of any material weighs the same as 1 ton of any other material.</td>\n",
       "    </tr>\n",
       "  </tbody>\n",
       "</table>\n",
       "</div>"
      ],
      "text/plain": [
       "                                                                                                                                                                                                                                                                                                                                                                                                                                                                                                                                                                                                                                                                                 response\n",
       "0                                                                                                                                                                                                                                                                                                                                                                                           2 tons of feathers and 1 ton of bricks both weigh the same amount, which is 1 ton. The difference is in their volume, as feathers are much lighter than bricks, so it would take a larger quantity of feathers to make 2 tons. Therefore, neither is heavier than the other in this scenario.\n",
       "1                                                                                                                                                                                                                                                                                                                                                                                                                                                                                                                                                                                                                                                         Neither, they both weigh a ton.\n",
       "2                                                                                                                                                                                                                                                                                                                                                                                                                                                                                                                                                                                             They are both the same weight, as 2 tons of feathers and 1 ton of bricks both weigh 2 tons.\n",
       "3                                                                                                                                                                                                                                                                                                                                                                                                                                                                                                                                                                                                                                                          2 tons of feathers is heavier.\n",
       "4   They both weigh the same., , A ton is a unit of weight or mass, equal to 2,000 pounds (907 kg)., , So 2 tons of feathers and 1 ton of bricks have the same weight, just different compositions., , This question plays on the perceived notion that feathers are lighter than bricks, which is true for equal volumes. But when comparing by weight/mass units like tons, 2 tons of any material weighs the same as 1 ton of any other material., , The phrasing is meant to trick people into thinking 1 ton of the denser bricks would be heavier than 2 tons of the lighter feathers, when in fact the tons unit already accounts for the weight difference between the materials.\n",
       "5                                                                                                                                                                                                                         2 tons of feathers is heavier than 1 ton of bricks. The weight of an object is determined by how much matter it contains and the force of gravity acting upon it. In this case, 2 tons of any material will always be heavier than 1 ton of any other material. Although it might seem counterintuitive because we usually associate feathers with lightness and bricks with heaviness, the quantity (in this case, tons) is the determining factor for weight.\n",
       "8                                                                                                                                                                                                                                                                                                                                                                                                                                                                                                                                                                                             They are both equal in weight, as 2 tons of feathers and 1 ton of bricks both weigh 2 tons.\n",
       "10                                                                                                                                               They both weigh the same., , A ton is a unit of weight/mass, equal to 2,000 pounds (907 kg). So 2 tons of feathers has the same weight as 1 ton of bricks, because in both cases the weight is 2 tons., , The old riddle plays on the mistaken assumption that feathers, being lighter in density, would weigh less than a denser material like bricks for the same weight measurement. But a ton is a ton, regardless of the material's density. The feathers would just take up much more volume to reach the equivalent 2 ton weight.\n",
       "11                                                                                                                                                                                                                                                                                                                                                                                                                                                                                                                 2 tons of feathers is heavier than 1 ton of bricks. The weight is determined by the ton unit, and 2 tons is more than 1 ton, regardless of the material being weighed.\n",
       "15                                                                                                                                                                                                                                                                                                                                                                                                                                                                                                                                                                                                                                    2 tons of feathers is heavier than 1 ton of bricks.\n",
       "16                                                                                                                                                                                                                                                      They weigh the same., , A ton is a unit of weight/mass. 2 tons of feathers has the same weight as 1 ton of bricks, since a ton is a ton regardless of the material., , This is a classic riddle that plays on the intuition that feathers are lighter than bricks for the same volume. But when comparing strictly by weight/mass units like tons, 2 tons will equal 2 tons whether it's feathers, bricks, or any other material.\n",
       "17                                                                                                                                                                                                                                                                                                                                                                  2 tons of feathers is heavier than 1 ton of bricks. The weight of an object is determined by how much matter it contains and the force of gravity acting upon it. In this case, 2 tons of any material will always be heavier than 1 ton of any other material, regardless of their differences in density or volume.\n",
       "19                                                                                                                                                                                                                                                                                                                                                                                                                                                                                                                                                                                                                                                                   They weigh the same.\n",
       "20                                                                                                                                                                                                                                                                                                                                                                                                                                                                                                                                                                                                      They are both the same weight, as 2 tons of feathers is equal to 1 ton of bricks.\n",
       "22                                                                                                                                                         They weigh the same., , A ton is a unit of weight/mass. 2 tons of feathers and 1 ton of bricks both represent the same weight/mass, just different materials., , This is a classic riddle that plays on the intuition that feathers seem very light compared to dense objects like bricks. But by specifying the weights in tons, it makes the weights equivalent., , So the correct answer is that 2 tons of feathers weighs the same as 1 ton of bricks, since a ton is a ton, regardless of the composition of the objects.\n",
       "23                                                                                                                                                                                                                                                                2 tons of feathers is heavier than 1 ton of bricks. The weight of an object is determined by how much matter it contains and the force of gravity acting upon it. In this case, 2 tons of any material will always be heavier than 1 ton of any other material, regardless of their densities or volumes. So, 2 tons of feathers is heavier than 1 ton of bricks, even though feathers are much less dense than bricks.\n",
       "25                                                                                                                                                                                                                                                                                                                                                                                                                                                                                                                                                                                                                                                They both weigh the same, 2,000 pounds.\n",
       "26                                                                                                                                                                                                                                                                                                                                                                                                                                                                                                                                                                                                                                                      They both weigh the same, 2 tons.\n",
       "28                                                                                                                                                                                         They weigh the same., , A ton is a unit of weight/mass, equal to 2,000 pounds. So:, , 2 tons of feathers = 2 x 2,000 lbs = 4,000 lbs, 1 ton of bricks = 1 x 2,000 lbs = 2,000 lbs, , Therefore, 2 tons of feathers weighs the same as 1 ton of bricks, which is 4,000 lbs., , This is a classic riddle that plays on the intuition that feathers are lighter than bricks for an equal volume. But when measured by weight/mass, 2 tons of anything weighs the same as 2 tons of anything else.\n",
       "31                                                                                                                                                                                                                                                                                                                                                                                                                                                                                                                                                                                                                                                         They are both the same weight.\n",
       "33                                                                                                                                                                                                                                                                                                                                                                                                                                                                                                                                                                                                                                                        2 tons of feathers are heavier.\n",
       "34                                                                                                                                                                                                                                                                     They weigh the same., , A ton is a unit of weight/mass. 2 tons of feathers has the same weight/mass as 1 ton of bricks, since a ton is a ton regardless of the material., , This is a classic riddle that plays on the intuition that feathers seem very light compared to dense objects like bricks. But by definition, 2 tons of any material will equal 1 ton of any other material in terms of weight or mass.\n",
       "35                                                                                                                                                                  2 tons of feathers is heavier than 1 ton of bricks. The weight of an object is determined by how much matter it contains and the force of gravity acting upon it. In this case, 2 tons of any material, including feathers, is heavier than 1 ton of any other material, such as bricks. While it may seem counterintuitive because we usually associate feathers with being light and bricks with being heavy, the quantity of material being compared in this question is the key factor in determining the weight.\n",
       "37                                                                                                                                                                                                                                                                                                                                                                                                                                                                                                                                                                                                                                                               They both weigh the same\n",
       "40                                                                                                                                                                          They weigh the same., , A ton is a unit of weight/mass. 2 tons of feathers has the same weight as 1 ton of bricks., , The question is meant as a trick question or riddle, playing on the perception that feathers are very light compared to dense objects like bricks. But when the masses are compared directly using the same unit (tons), they are equivalent., , So the correct answer is that 2 tons of feathers weighs the same as 1 ton of bricks, since a ton is a ton, regardless of the material.\n",
       "41                                                                                                                                                                                                                                                                                                                                                                              2 tons of feathers is heavier than 1 ton of bricks. The weight of an object is determined by how much matter it contains and the force of gravity acting upon it. In this case, 2 tons of any material will always be heavier than 1 ton of any other material, regardless of their densities or volumes.\n",
       "46                                                                                                                                                                        They weigh the same., , A ton is a unit of weight/mass equal to 2,000 pounds. So:, , 2 tons of feathers = 2 x 2,000 lbs = 4,000 lbs, 1 ton of bricks = 1 x 2,000 lbs = 2,000 lbs, , Therefore, 2 tons of feathers weighs the same as 1 ton of bricks - they both equal 4,000 pounds., , The oft-quoted \"riddle\" plays on the intuition that feathers are lighter than bricks, but when measured in the same units of mass (tons), an equal number of tons will have the same weight regardless of the material.\n",
       "47                                                                                                                                                                                                                                                                                                                                                                                                                                                                                            2 tons of feathers is heavier than 1 ton of bricks. The weight is determined by the total mass of the objects, and 2 tons is greater than 1 ton, regardless of the materials being weighed.\n",
       "49                                                                                                                                                                                                                                                                                                                                                                                                                                                                                                                                                                                                                                                              They both weigh the same.\n",
       "50                                                                                                                                                                                                                                                                                                                                                                                                                                                                                                                                                                                                  They are both equal in weight as 2 tons of feathers is equivalent to 1 ton of bricks.\n",
       "52                                                                                                                                                  They weigh the same., , A ton is a unit of weight/mass. 2 tons of feathers has the same weight/mass as 1 ton of bricks., , The \"ton\" refers to the total weight, regardless of what material makes up that weight. So 2 tons of the light, low-density feathers has the same total weight as 1 ton of the dense bricks., , This is a classic riddle that plays on the intuition that feathers are lighter than bricks. But when dealing with defined weight units like tons, 2 tons will equal 2 tons, regardless of the composition.\n",
       "58                                                                                                                                                                                                                                                                                        They weigh the same., , A ton is a unit of weight/mass. 2 tons of feathers has the same weight as 1 ton of bricks, since a ton is a ton regardless of the material., , This is a classic riddle that plays on the intuition that feathers are lighter than bricks for the same volume. But when measured by weight/mass, 2 tons of any material weighs the same as 1 ton of any other material."
      ]
     },
     "execution_count": 27,
     "metadata": {},
     "output_type": "execute_result"
    }
   ],
   "source": [
    "uniqueResponses=responses_df.drop_duplicates(subset=['response'])[['response']]\n",
    "uniqueResponses"
   ]
  },
  {
   "cell_type": "markdown",
   "id": "0cdaa1e9-cd52-46d6-bf95-ee52c9d77094",
   "metadata": {},
   "source": [
    "## Let's try our first shot at a classifier! "
   ]
  },
  {
   "cell_type": "code",
   "execution_count": 80,
   "id": "d90b52d5-c8a3-4c56-b5ad-20a835f03423",
   "metadata": {},
   "outputs": [],
   "source": [
    "@marvin.classifier\n",
    "class GradingWeight(Enum):\n",
    "    PASS = \"\"\"Says the feathers\"\"\"\n",
    "    FAIL = \"\"\"Says they're equal, or the bricks\"\"\"\n",
    "\n",
    "uniqueResponses['category'] = uniqueResponses.apply(lambda row: marvin.classify(row['response'], GradingWeight).name, axis=1)"
   ]
  },
  {
   "cell_type": "markdown",
   "id": "361a3282-313c-4c0b-9b03-d9decc9a9289",
   "metadata": {},
   "source": [
    "### Let's see how it's doing"
   ]
  },
  {
   "cell_type": "code",
   "execution_count": 81,
   "id": "d39bc5ab-8770-438c-ba69-441a9725059b",
   "metadata": {},
   "outputs": [
    {
     "data": {
      "text/html": [
       "<div>\n",
       "<style scoped>\n",
       "    .dataframe tbody tr th:only-of-type {\n",
       "        vertical-align: middle;\n",
       "    }\n",
       "\n",
       "    .dataframe tbody tr th {\n",
       "        vertical-align: top;\n",
       "    }\n",
       "\n",
       "    .dataframe thead th {\n",
       "        text-align: right;\n",
       "    }\n",
       "</style>\n",
       "<table border=\"1\" class=\"dataframe\">\n",
       "  <thead>\n",
       "    <tr style=\"text-align: right;\">\n",
       "      <th></th>\n",
       "      <th>response</th>\n",
       "      <th>category</th>\n",
       "    </tr>\n",
       "  </thead>\n",
       "  <tbody>\n",
       "    <tr>\n",
       "      <th>0</th>\n",
       "      <td>2 tons of feathers and 1 ton of bricks both weigh the same amount, which is 1 ton. The difference is in their volume, as feathers are much lighter than bricks, so it would take a larger quantity of feathers to make 2 tons. Therefore, neither is heavier than the other in this scenario.</td>\n",
       "      <td>FAIL</td>\n",
       "    </tr>\n",
       "    <tr>\n",
       "      <th>1</th>\n",
       "      <td>Neither, they both weigh a ton.</td>\n",
       "      <td>FAIL</td>\n",
       "    </tr>\n",
       "    <tr>\n",
       "      <th>2</th>\n",
       "      <td>They are both the same weight, as 2 tons of feathers and 1 ton of bricks both weigh 2 tons.</td>\n",
       "      <td>FAIL</td>\n",
       "    </tr>\n",
       "    <tr>\n",
       "      <th>3</th>\n",
       "      <td>2 tons of feathers is heavier.</td>\n",
       "      <td>FAIL</td>\n",
       "    </tr>\n",
       "    <tr>\n",
       "      <th>4</th>\n",
       "      <td>They both weigh the same., , A ton is a unit of weight or mass, equal to 2,000 pounds (907 kg)., , So 2 tons of feathers and 1 ton of bricks have the same weight, just different compositions., , This question plays on the perceived notion that feathers are lighter than bricks, which is true for equal volumes. But when comparing by weight/mass units like tons, 2 tons of any material weighs the same as 1 ton of any other material., , The phrasing is meant to trick people into thinking 1 ton of the denser bricks would be heavier than 2 tons of the lighter feathers, when in fact the tons unit already accounts for the weight difference between the materials.</td>\n",
       "      <td>FAIL</td>\n",
       "    </tr>\n",
       "  </tbody>\n",
       "</table>\n",
       "</div>"
      ],
      "text/plain": [
       "                                                                                                                                                                                                                                                                                                                                                                                                                                                                                                                                                                                                                                                                                response  \\\n",
       "0                                                                                                                                                                                                                                                                                                                                                                                          2 tons of feathers and 1 ton of bricks both weigh the same amount, which is 1 ton. The difference is in their volume, as feathers are much lighter than bricks, so it would take a larger quantity of feathers to make 2 tons. Therefore, neither is heavier than the other in this scenario.   \n",
       "1                                                                                                                                                                                                                                                                                                                                                                                                                                                                                                                                                                                                                                                        Neither, they both weigh a ton.   \n",
       "2                                                                                                                                                                                                                                                                                                                                                                                                                                                                                                                                                                                            They are both the same weight, as 2 tons of feathers and 1 ton of bricks both weigh 2 tons.   \n",
       "3                                                                                                                                                                                                                                                                                                                                                                                                                                                                                                                                                                                                                                                         2 tons of feathers is heavier.   \n",
       "4  They both weigh the same., , A ton is a unit of weight or mass, equal to 2,000 pounds (907 kg)., , So 2 tons of feathers and 1 ton of bricks have the same weight, just different compositions., , This question plays on the perceived notion that feathers are lighter than bricks, which is true for equal volumes. But when comparing by weight/mass units like tons, 2 tons of any material weighs the same as 1 ton of any other material., , The phrasing is meant to trick people into thinking 1 ton of the denser bricks would be heavier than 2 tons of the lighter feathers, when in fact the tons unit already accounts for the weight difference between the materials.   \n",
       "\n",
       "  category  \n",
       "0     FAIL  \n",
       "1     FAIL  \n",
       "2     FAIL  \n",
       "3     FAIL  \n",
       "4     FAIL  "
      ]
     },
     "execution_count": 81,
     "metadata": {},
     "output_type": "execute_result"
    }
   ],
   "source": [
    "uniqueResponses[['response', 'category']].head()"
   ]
  },
  {
   "cell_type": "markdown",
   "id": "831462c0-5d1f-451d-bcac-9493671ea172",
   "metadata": {},
   "source": [
    "### Let's download and label this"
   ]
  },
  {
   "cell_type": "code",
   "execution_count": 62,
   "id": "dc2efb4b-f108-4e0f-be23-7914aaff5752",
   "metadata": {},
   "outputs": [],
   "source": [
    "uniqueResponses.to_csv(\"../data/unique_feather_responses.csv\")"
   ]
  },
  {
   "cell_type": "markdown",
   "id": "ea7202ad-31e8-47be-9b6f-c8b26735b33f",
   "metadata": {},
   "source": [
    "### OK, it's labeled, and we're reading it back in"
   ]
  },
  {
   "cell_type": "code",
   "execution_count": 63,
   "id": "fb2d9a38-c813-408d-af99-bf02491ea890",
   "metadata": {},
   "outputs": [],
   "source": [
    "labeledUniqueResponses= pd.read_csv(\"../data/unique_feather_responses_labeled.csv\")"
   ]
  },
  {
   "cell_type": "markdown",
   "id": "3030f8a4-7b4e-47e3-93db-df2d8a48f876",
   "metadata": {},
   "source": [
    "## We're going to join back in the tables"
   ]
  },
  {
   "cell_type": "code",
   "execution_count": 94,
   "id": "52c15a6b-16f9-4ad1-af2e-ff691bf05bb8",
   "metadata": {},
   "outputs": [],
   "source": [
    "merged=labeledUniqueResponses.merge(uniqueResponses, on='response')"
   ]
  },
  {
   "cell_type": "markdown",
   "id": "d578158e-4be6-4cac-a00f-6d847098289f",
   "metadata": {},
   "source": [
    "## Let's see how it did"
   ]
  },
  {
   "cell_type": "code",
   "execution_count": 103,
   "id": "62b699fb-7e83-40ef-97a4-f99de7b71fd1",
   "metadata": {},
   "outputs": [
    {
     "name": "stdout",
     "output_type": "stream",
     "text": [
      "category       FAIL  PASS\n",
      "true_category            \n",
      "FAIL             22     0\n",
      "PASS              4     6\n"
     ]
    },
    {
     "data": {
      "text/html": [
       "\n",
       "    <h3 style='color: #4CAF50;'>Evaluation Metrics:</h3>\n",
       "    <ul>\n",
       "        <li><b>Accuracy (0.88):</b> Percentage of correct predictions.</li>\n",
       "        <li><b>Precision (1.00):</b> Of all predicted positive, how many were actually positive?</li>\n",
       "        <li><b>Recall (0.60):</b> Of all actual positive, how many were predicted as positive?</li>\n",
       "    </ul>\n",
       "    "
      ],
      "text/plain": [
       "<IPython.core.display.HTML object>"
      ]
     },
     "metadata": {},
     "output_type": "display_data"
    }
   ],
   "source": [
    "conf_matrix = pd.crosstab(merged['true_category'], merged['category'])\n",
    "print(conf_matrix)\n",
    "calculate_and_display_metrics(conf_matrix, 'PASS', 'FAIL')"
   ]
  },
  {
   "cell_type": "markdown",
   "id": "5bb1f46d-ca86-4dd6-9442-4b629024c146",
   "metadata": {},
   "source": [
    "### We want to see on what types of responses this is failing and succeeding so we can iterate"
   ]
  },
  {
   "cell_type": "code",
   "execution_count": 104,
   "id": "a899d374-14ea-4ac1-9a0c-aaf45476f7b4",
   "metadata": {},
   "outputs": [
    {
     "data": {
      "text/html": [
       "<h3 style='color: #2196F3;'>True Positives:</h3>"
      ],
      "text/plain": [
       "<IPython.core.display.HTML object>"
      ]
     },
     "metadata": {},
     "output_type": "display_data"
    },
    {
     "data": {
      "text/html": [
       "- 2 tons of feathers is heavier than 1 ton of bricks. The weight is determined by the ton unit, and 2 tons is more than 1 ton, regardless of the material being weighed.<br>"
      ],
      "text/plain": [
       "<IPython.core.display.HTML object>"
      ]
     },
     "metadata": {},
     "output_type": "display_data"
    },
    {
     "data": {
      "text/html": [
       "- 2 tons of feathers is heavier than 1 ton of bricks.<br>"
      ],
      "text/plain": [
       "<IPython.core.display.HTML object>"
      ]
     },
     "metadata": {},
     "output_type": "display_data"
    },
    {
     "data": {
      "text/html": [
       "- 2 tons of feathers is heavier than 1 ton of bricks. The weight of an object is determined by how much matter it contains and the force of gravity acting upon it. In this case, 2 tons of any material will always be heavier than 1 ton of any other material, regardless of their densities or volumes. So, 2 tons of feathers is heavier than 1 ton of bricks, even though feathers are much less dense than bricks.<br>"
      ],
      "text/plain": [
       "<IPython.core.display.HTML object>"
      ]
     },
     "metadata": {},
     "output_type": "display_data"
    },
    {
     "data": {
      "text/html": [
       "- 2 tons of feathers are heavier.<br>"
      ],
      "text/plain": [
       "<IPython.core.display.HTML object>"
      ]
     },
     "metadata": {},
     "output_type": "display_data"
    },
    {
     "data": {
      "text/html": [
       "- 2 tons of feathers is heavier than 1 ton of bricks. The weight of an object is determined by how much matter it contains and the force of gravity acting upon it. In this case, 2 tons of any material, including feathers, is heavier than 1 ton of any other material, such as bricks. While it may seem counterintuitive because we usually associate feathers with being light and bricks with being heavy, the quantity of material being compared in this question is the key factor in determining the weight.<br>"
      ],
      "text/plain": [
       "<IPython.core.display.HTML object>"
      ]
     },
     "metadata": {},
     "output_type": "display_data"
    },
    {
     "data": {
      "text/html": [
       "<h3 style='color: #2196F3;'>False Positives:</h3>"
      ],
      "text/plain": [
       "<IPython.core.display.HTML object>"
      ]
     },
     "metadata": {},
     "output_type": "display_data"
    },
    {
     "data": {
      "text/html": [
       "<h3 style='color: #2196F3;'>True Negatives:</h3>"
      ],
      "text/plain": [
       "<IPython.core.display.HTML object>"
      ]
     },
     "metadata": {},
     "output_type": "display_data"
    },
    {
     "data": {
      "text/html": [
       "- 2 tons of feathers and 1 ton of bricks both weigh the same amount, which is 1 ton. The difference is in their volume, as feathers are much lighter than bricks, so it would take a larger quantity of feathers to make 2 tons. Therefore, neither is heavier than the other in this scenario.<br>"
      ],
      "text/plain": [
       "<IPython.core.display.HTML object>"
      ]
     },
     "metadata": {},
     "output_type": "display_data"
    },
    {
     "data": {
      "text/html": [
       "- Neither, they both weigh a ton.<br>"
      ],
      "text/plain": [
       "<IPython.core.display.HTML object>"
      ]
     },
     "metadata": {},
     "output_type": "display_data"
    },
    {
     "data": {
      "text/html": [
       "- They are both the same weight, as 2 tons of feathers and 1 ton of bricks both weigh 2 tons.<br>"
      ],
      "text/plain": [
       "<IPython.core.display.HTML object>"
      ]
     },
     "metadata": {},
     "output_type": "display_data"
    },
    {
     "data": {
      "text/html": [
       "- They both weigh the same., , A ton is a unit of weight or mass, equal to 2,000 pounds (907 kg)., , So 2 tons of feathers and 1 ton of bricks have the same weight, just different compositions., , This question plays on the perceived notion that feathers are lighter than bricks, which is true for equal volumes. But when comparing by weight/mass units like tons, 2 tons of any material weighs the same as 1 ton of any other material., , The phrasing is meant to trick people into thinking 1 ton of the denser bricks would be heavier than 2 tons of the lighter feathers, when in fact the tons unit already accounts for the weight difference between the materials.<br>"
      ],
      "text/plain": [
       "<IPython.core.display.HTML object>"
      ]
     },
     "metadata": {},
     "output_type": "display_data"
    },
    {
     "data": {
      "text/html": [
       "- They are both equal in weight, as 2 tons of feathers and 1 ton of bricks both weigh 2 tons.<br>"
      ],
      "text/plain": [
       "<IPython.core.display.HTML object>"
      ]
     },
     "metadata": {},
     "output_type": "display_data"
    },
    {
     "data": {
      "text/html": [
       "<h3 style='color: #2196F3;'>False Negatives:</h3>"
      ],
      "text/plain": [
       "<IPython.core.display.HTML object>"
      ]
     },
     "metadata": {},
     "output_type": "display_data"
    },
    {
     "data": {
      "text/html": [
       "- 2 tons of feathers is heavier.<br>"
      ],
      "text/plain": [
       "<IPython.core.display.HTML object>"
      ]
     },
     "metadata": {},
     "output_type": "display_data"
    },
    {
     "data": {
      "text/html": [
       "- 2 tons of feathers is heavier than 1 ton of bricks. The weight of an object is determined by how much matter it contains and the force of gravity acting upon it. In this case, 2 tons of any material will always be heavier than 1 ton of any other material. Although it might seem counterintuitive because we usually associate feathers with lightness and bricks with heaviness, the quantity (in this case, tons) is the determining factor for weight.<br>"
      ],
      "text/plain": [
       "<IPython.core.display.HTML object>"
      ]
     },
     "metadata": {},
     "output_type": "display_data"
    },
    {
     "data": {
      "text/html": [
       "- 2 tons of feathers is heavier than 1 ton of bricks. The weight of an object is determined by how much matter it contains and the force of gravity acting upon it. In this case, 2 tons of any material will always be heavier than 1 ton of any other material, regardless of their differences in density or volume.<br>"
      ],
      "text/plain": [
       "<IPython.core.display.HTML object>"
      ]
     },
     "metadata": {},
     "output_type": "display_data"
    },
    {
     "data": {
      "text/html": [
       "- 2 tons of feathers is heavier than 1 ton of bricks. The weight of an object is determined by how much matter it contains and the force of gravity acting upon it. In this case, 2 tons of any material will always be heavier than 1 ton of any other material, regardless of their densities or volumes.<br>"
      ],
      "text/plain": [
       "<IPython.core.display.HTML object>"
      ]
     },
     "metadata": {},
     "output_type": "display_data"
    }
   ],
   "source": [
    "filter_and_print_examples(merged, 'true_category', 'category', 'PASS', 'FAIL')"
   ]
  },
  {
   "cell_type": "markdown",
   "id": "5e69dbc6-1968-4863-ba43-38080433bc4f",
   "metadata": {},
   "source": [
    "### Let's try another one and see how we do"
   ]
  },
  {
   "cell_type": "code",
   "execution_count": 56,
   "id": "91882355-b3bd-436b-9f5b-0beb21bc08e8",
   "metadata": {},
   "outputs": [],
   "source": [
    "@marvin.classifier\n",
    "class WeightQuestion(Enum):\n",
    "    PASS = \"\"\"Says that the feathers are heavier. Does not at any point say they weigh the same amount\"\"\"\n",
    "    FAIL = \"\"\"Says that the bricks and feathers are the same weight, that the bricks are heavier, or is ambiguous or confused\"\"\"\n",
    "\n",
    "\n",
    "uniqueResponses['categoryTwo'] = uniqueResponses.apply(lambda row: marvin.classify(row['response'], WeightQuestion).name, axis=1)"
   ]
  },
  {
   "cell_type": "code",
   "execution_count": 105,
   "id": "8622bb55-5955-4d66-aaee-17941884471a",
   "metadata": {},
   "outputs": [
    {
     "name": "stdout",
     "output_type": "stream",
     "text": [
      "categoryTwo    FAIL  PASS\n",
      "true_category            \n",
      "FAIL             22     0\n",
      "PASS              0    10\n"
     ]
    },
    {
     "data": {
      "text/html": [
       "\n",
       "    <h3 style='color: #4CAF50;'>Evaluation Metrics:</h3>\n",
       "    <ul>\n",
       "        <li><b>Accuracy (1.00):</b> Percentage of correct predictions.</li>\n",
       "        <li><b>Precision (1.00):</b> Of all predicted positive, how many were actually positive?</li>\n",
       "        <li><b>Recall (1.00):</b> Of all actual positive, how many were predicted as positive?</li>\n",
       "    </ul>\n",
       "    "
      ],
      "text/plain": [
       "<IPython.core.display.HTML object>"
      ]
     },
     "metadata": {},
     "output_type": "display_data"
    }
   ],
   "source": [
    "merged=labeledUniqueResponses.merge(uniqueResponses, on='response')\n",
    "conf_matrix= pd.crosstab(merged['true_category'], merged['categoryTwo'])\n",
    "print(conf_matrix)\n",
    "calculate_and_display_metrics(conf_matrix, 'PASS', 'FAIL')"
   ]
  },
  {
   "cell_type": "markdown",
   "id": "9f583744-e92c-419e-ac69-e785da9919ab",
   "metadata": {},
   "source": [
    "### Seeing how the new rubric performed"
   ]
  },
  {
   "cell_type": "code",
   "execution_count": 106,
   "id": "1541839f-ea59-42f0-915b-fd2840119d3d",
   "metadata": {},
   "outputs": [
    {
     "data": {
      "text/html": [
       "<h3 style='color: #2196F3;'>True Positives:</h3>"
      ],
      "text/plain": [
       "<IPython.core.display.HTML object>"
      ]
     },
     "metadata": {},
     "output_type": "display_data"
    },
    {
     "data": {
      "text/html": [
       "- 2 tons of feathers is heavier.<br>"
      ],
      "text/plain": [
       "<IPython.core.display.HTML object>"
      ]
     },
     "metadata": {},
     "output_type": "display_data"
    },
    {
     "data": {
      "text/html": [
       "- 2 tons of feathers is heavier than 1 ton of bricks. The weight of an object is determined by how much matter it contains and the force of gravity acting upon it. In this case, 2 tons of any material will always be heavier than 1 ton of any other material. Although it might seem counterintuitive because we usually associate feathers with lightness and bricks with heaviness, the quantity (in this case, tons) is the determining factor for weight.<br>"
      ],
      "text/plain": [
       "<IPython.core.display.HTML object>"
      ]
     },
     "metadata": {},
     "output_type": "display_data"
    },
    {
     "data": {
      "text/html": [
       "- 2 tons of feathers is heavier than 1 ton of bricks. The weight is determined by the ton unit, and 2 tons is more than 1 ton, regardless of the material being weighed.<br>"
      ],
      "text/plain": [
       "<IPython.core.display.HTML object>"
      ]
     },
     "metadata": {},
     "output_type": "display_data"
    },
    {
     "data": {
      "text/html": [
       "- 2 tons of feathers is heavier than 1 ton of bricks.<br>"
      ],
      "text/plain": [
       "<IPython.core.display.HTML object>"
      ]
     },
     "metadata": {},
     "output_type": "display_data"
    },
    {
     "data": {
      "text/html": [
       "- 2 tons of feathers is heavier than 1 ton of bricks. The weight of an object is determined by how much matter it contains and the force of gravity acting upon it. In this case, 2 tons of any material will always be heavier than 1 ton of any other material, regardless of their differences in density or volume.<br>"
      ],
      "text/plain": [
       "<IPython.core.display.HTML object>"
      ]
     },
     "metadata": {},
     "output_type": "display_data"
    },
    {
     "data": {
      "text/html": [
       "<h3 style='color: #2196F3;'>False Positives:</h3>"
      ],
      "text/plain": [
       "<IPython.core.display.HTML object>"
      ]
     },
     "metadata": {},
     "output_type": "display_data"
    },
    {
     "data": {
      "text/html": [
       "<h3 style='color: #2196F3;'>True Negatives:</h3>"
      ],
      "text/plain": [
       "<IPython.core.display.HTML object>"
      ]
     },
     "metadata": {},
     "output_type": "display_data"
    },
    {
     "data": {
      "text/html": [
       "- 2 tons of feathers and 1 ton of bricks both weigh the same amount, which is 1 ton. The difference is in their volume, as feathers are much lighter than bricks, so it would take a larger quantity of feathers to make 2 tons. Therefore, neither is heavier than the other in this scenario.<br>"
      ],
      "text/plain": [
       "<IPython.core.display.HTML object>"
      ]
     },
     "metadata": {},
     "output_type": "display_data"
    },
    {
     "data": {
      "text/html": [
       "- Neither, they both weigh a ton.<br>"
      ],
      "text/plain": [
       "<IPython.core.display.HTML object>"
      ]
     },
     "metadata": {},
     "output_type": "display_data"
    },
    {
     "data": {
      "text/html": [
       "- They are both the same weight, as 2 tons of feathers and 1 ton of bricks both weigh 2 tons.<br>"
      ],
      "text/plain": [
       "<IPython.core.display.HTML object>"
      ]
     },
     "metadata": {},
     "output_type": "display_data"
    },
    {
     "data": {
      "text/html": [
       "- They both weigh the same., , A ton is a unit of weight or mass, equal to 2,000 pounds (907 kg)., , So 2 tons of feathers and 1 ton of bricks have the same weight, just different compositions., , This question plays on the perceived notion that feathers are lighter than bricks, which is true for equal volumes. But when comparing by weight/mass units like tons, 2 tons of any material weighs the same as 1 ton of any other material., , The phrasing is meant to trick people into thinking 1 ton of the denser bricks would be heavier than 2 tons of the lighter feathers, when in fact the tons unit already accounts for the weight difference between the materials.<br>"
      ],
      "text/plain": [
       "<IPython.core.display.HTML object>"
      ]
     },
     "metadata": {},
     "output_type": "display_data"
    },
    {
     "data": {
      "text/html": [
       "- They are both equal in weight, as 2 tons of feathers and 1 ton of bricks both weigh 2 tons.<br>"
      ],
      "text/plain": [
       "<IPython.core.display.HTML object>"
      ]
     },
     "metadata": {},
     "output_type": "display_data"
    },
    {
     "data": {
      "text/html": [
       "<h3 style='color: #2196F3;'>False Negatives:</h3>"
      ],
      "text/plain": [
       "<IPython.core.display.HTML object>"
      ]
     },
     "metadata": {},
     "output_type": "display_data"
    }
   ],
   "source": [
    "filter_and_print_examples(merged, 'true_category', 'categoryTwo', 'PASS', 'FAIL')"
   ]
  }
 ],
 "metadata": {
  "kernelspec": {
   "display_name": "My Virtual Env",
   "language": "python",
   "name": "env"
  },
  "language_info": {
   "codemirror_mode": {
    "name": "ipython",
    "version": 3
   },
   "file_extension": ".py",
   "mimetype": "text/x-python",
   "name": "python",
   "nbconvert_exporter": "python",
   "pygments_lexer": "ipython3",
   "version": "3.11.2"
  }
 },
 "nbformat": 4,
 "nbformat_minor": 5
}
